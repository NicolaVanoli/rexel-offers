{
 "cells": [
  {
   "cell_type": "code",
   "execution_count": 1,
   "metadata": {},
   "outputs": [],
   "source": [
    "\"\"\"\n",
    "This module contains code for scraping data from the Rexel website and processing the scraped data.\n",
    "\"\"\"\n",
    "\n",
    "import json\n",
    "from time import sleep\n",
    "\n",
    "import pandas as pd\n",
    "from bs4 import BeautifulSoup\n",
    "from selenium import webdriver\n",
    "from selenium.webdriver.chrome.options import Options\n",
    "from selenium.webdriver.chrome.service import Service\n",
    "\n",
    "with open('config.json', 'r', encoding='utf-8') as f:\n",
    "    config = json.load(f)\n",
    "\n",
    "options = Options()\n",
    "options.add_argument(\"--disable-logging\")\n",
    "options.add_argument(\"--start-maximized\")\n",
    "\n",
    "service = Service()\n",
    "driver = webdriver.Chrome(service=service, options=options)\n",
    "driver.get('https://rexel.it/login')\n",
    "\n",
    "# Find the username and password input fields and enter your credentials\n",
    "username_field = driver.find_element('id', 'MainContent_wucLoginBoxes_UserName')\n",
    "username_field.send_keys(config['username'])\n",
    "\n",
    "password_field = driver.find_element('id', 'MainContent_wucLoginBoxes_Password')\n",
    "password_field.send_keys(config['password'])\n",
    "\n",
    "# Submit the login form\n",
    "login_button = driver.find_element('id', 'lbLogin')\n",
    "login_button.click()\n",
    "\n",
    "driver.implicitly_wait(15)\n",
    "\n",
    "NO_OF_PAGES = 884\n",
    "COUNT = 1\n",
    "products_list = []"
   ]
  },
  {
   "cell_type": "code",
   "execution_count": 3,
   "metadata": {},
   "outputs": [],
   "source": [
    "while COUNT < NO_OF_PAGES:\n",
    "    driver.get(f'https://rexel.it/categoria/illuminazione?page={COUNT}')\n",
    "\n",
    "    # Wait for the page to load\n",
    "    sleep(15)\n",
    "\n",
    "    page_source = driver.page_source\n",
    "    soup = BeautifulSoup(page_source, 'html.parser')\n",
    "    products = soup.select('.col-product')\n",
    "\n",
    "    for product in products:\n",
    "        name = product.select_one(\".name-product\").text.strip()\n",
    "        code = product.select_one(\".code\").text.strip()\n",
    "        OFFER = product.select_one(\".alert\")\n",
    "\n",
    "        if OFFER is not None:\n",
    "            OFFER = OFFER.text.strip()\n",
    "            if 'Offerta limitata' in OFFER and 'A solo: € 0,00' not in OFFER:\n",
    "                price = OFFER.split('\\n')[2].replace('A solo: ','').strip()\n",
    "                OFFER = 'Offerta limitata'\n",
    "                # Create a dictionary for the product\n",
    "                product_dict = {\n",
    "                    \"Product Name\": name,\n",
    "                    \"Price\": price.split('x')[0].rstrip(),\n",
    "                    \"Code\": code.split('Cod. Produttore')[0].strip(),\n",
    "                }\n",
    "                products_list.append(product_dict)\n",
    "                print(f\"Product Name: {name}\")\n",
    "                print(f\"Price: {price.split('x')[0].rstrip()}\")\n",
    "                print(f\"{code.split('Cod. Produttore')[0].strip()}\")\n",
    "                print(\"---\")\n",
    "            else: OFFER ='NA'\n",
    "\n",
    "    if COUNT%5 == 0:\n",
    "        print(f'SUCCESSFULLY SCRAPED PAGE {COUNT}')\n",
    "    COUNT+=1\n",
    "\n",
    "with open(\"products.json\", \"w\", encoding='utf-8') as json_file:\n",
    "    json.dump(products_list, json_file)\n",
    "\n",
    "driver.quit()"
   ]
  },
  {
   "cell_type": "code",
   "execution_count": 5,
   "metadata": {},
   "outputs": [
    {
     "ename": "ModuleNotFoundError",
     "evalue": "No module named 'pandas'",
     "output_type": "error",
     "traceback": [
      "\u001b[1;31m---------------------------------------------------------------------------\u001b[0m",
      "\u001b[1;31mModuleNotFoundError\u001b[0m                       Traceback (most recent call last)",
      "Cell \u001b[1;32mIn[5], line 1\u001b[0m\n\u001b[1;32m----> 1\u001b[0m \u001b[38;5;28;01mimport\u001b[39;00m \u001b[38;5;21;01mpandas\u001b[39;00m \u001b[38;5;28;01mas\u001b[39;00m \u001b[38;5;21;01mpd\u001b[39;00m\n\u001b[0;32m      2\u001b[0m df \u001b[38;5;241m=\u001b[39m pd\u001b[38;5;241m.\u001b[39mDataFrame\u001b[38;5;241m.\u001b[39mfrom_dict(products_list)\n\u001b[0;32m      3\u001b[0m df\u001b[38;5;241m.\u001b[39mto_excel(\u001b[38;5;124m\"\u001b[39m\u001b[38;5;124mProdotti in Offerta.xlsx\u001b[39m\u001b[38;5;124m\"\u001b[39m, index\u001b[38;5;241m=\u001b[39m \u001b[38;5;28;01mFalse\u001b[39;00m)\n",
      "\u001b[1;31mModuleNotFoundError\u001b[0m: No module named 'pandas'"
     ]
    }
   ],
   "source": [
    "df = pd.DataFrame.from_dict(products_list)\n",
    "df.to_excel(\"Prodotti in Offerta.xlsx\", index= False)"
   ]
  },
  {
   "cell_type": "code",
   "execution_count": null,
   "metadata": {},
   "outputs": [],
   "source": []
  }
 ],
 "metadata": {
  "kernelspec": {
   "display_name": "Python 3",
   "language": "python",
   "name": "python3"
  },
  "language_info": {
   "codemirror_mode": {
    "name": "ipython",
    "version": 3
   },
   "file_extension": ".py",
   "mimetype": "text/x-python",
   "name": "python",
   "nbconvert_exporter": "python",
   "pygments_lexer": "ipython3",
   "version": "3.10.6"
  },
  "orig_nbformat": 4
 },
 "nbformat": 4,
 "nbformat_minor": 2
}
